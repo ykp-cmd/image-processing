{
  "nbformat": 4,
  "nbformat_minor": 0,
  "metadata": {
    "colab": {
      "provenance": [],
      "authorship_tag": "ABX9TyMhJniFqy0egUvp53ekfZQs",
      "include_colab_link": true
    },
    "kernelspec": {
      "name": "python3",
      "display_name": "Python 3"
    },
    "language_info": {
      "name": "python"
    }
  },
  "cells": [
    {
      "cell_type": "markdown",
      "metadata": {
        "id": "view-in-github",
        "colab_type": "text"
      },
      "source": [
        "<a href=\"https://colab.research.google.com/github/ykp-cmd/image-processing/blob/main/main_py.ipynb\" target=\"_parent\"><img src=\"https://colab.research.google.com/assets/colab-badge.svg\" alt=\"Open In Colab\"/></a>"
      ]
    },
    {
      "cell_type": "code",
      "source": [
        "from google.colab import drive\n",
        "drive.mount('/content/drive')"
      ],
      "metadata": {
        "colab": {
          "base_uri": "https://localhost:8080/"
        },
        "id": "V70j_KoIBlST",
        "outputId": "7e3e2e0d-de2e-4466-c449-d66b87748daf"
      },
      "execution_count": 1,
      "outputs": [
        {
          "output_type": "stream",
          "name": "stdout",
          "text": [
            "Mounted at /content/drive\n"
          ]
        }
      ]
    },
    {
      "cell_type": "code",
      "source": [
        "%cd /content/drive/My Drive/Colab Notebooks/CycleGAN_Project/pytorch-CycleGAN-and-pix2pix/datasets/capy"
      ],
      "metadata": {
        "colab": {
          "base_uri": "https://localhost:8080/"
        },
        "id": "FRBIpkIUBmh_",
        "outputId": "dd639041-cf44-4909-b006-c663a6c210a1"
      },
      "execution_count": 2,
      "outputs": [
        {
          "output_type": "stream",
          "name": "stdout",
          "text": [
            "/content/drive/My Drive/Colab Notebooks/CycleGAN_Project/pytorch-CycleGAN-and-pix2pix/datasets/capy\n"
          ]
        }
      ]
    },
    {
      "cell_type": "code",
      "source": [
        "import cv2\n",
        "import numpy as np\n",
        "import matplotlib.pyplot as plt\n",
        "import os\n",
        "import glob\n",
        "\n",
        "def image_rotate():\n",
        "    # sort by filesize, append counted number of elements\n",
        "    fg_imgs = glob.glob('/content/drive/MyDrive/Colab Notebooks/CycleGAN_Project/pytorch-CycleGAN-and-pix2pix/datasets/capycopied/fgcapy/*.jpg')\n",
        "\n",
        "    index = 0\n",
        "    for fg_img in fg_imgs:\n",
        "        index+=1\n",
        "    if index <= 3:\n",
        "        fname1 = os.path.splitext(os.path.basename(fg_img))[0]\n",
        "\n",
        "        original_image = cv2.imread(fg_img)\n",
        "\n",
        "        h, w = original_image.shape[:2]\n",
        "        size = (w, h)\n",
        "\n",
        "        #set rotation angle\n",
        "        angle = 10\n",
        "        angle_rad = angle/180.0*np.pi\n",
        "\n",
        "        #calculate image size after rotation\n",
        "        w_rot = int(np.round(h*np.absolute(np.sin(angle_rad))+w*np.absolute(np.cos(angle_rad))))\n",
        "        h_rot = int(np.round(h*np.absolute(np.cos(angle_rad))+w*np.absolute(np.sin(angle_rad))))\n",
        "        size_rot = (w_rot, h_rot)\n",
        "\n",
        "        #rotate around the centre of the original image\n",
        "        center = (w/2, h/2)\n",
        "        scale = 1.0\n",
        "        rotation_matrix = cv2.getRotationMatrix2D(center, angle, scale)\n",
        "\n",
        "        #add a parallel shift(rotation + translation)\n",
        "        affine_matrix = rotation_matrix.copy()\n",
        "        affine_matrix[0][2] = affine_matrix[0][2] -w/2 + w_rot/2\n",
        "        affine_matrix[1][2] = affine_matrix[1][2] -h/2 + h_rot/2\n",
        "\n",
        "        rotated_original_image = cv2.warpAffine(original_image, affine_matrix, size_rot, flags=cv2.INTER_CUBIC)\n",
        "        \n",
        "        fg_img = cv2.cvtColor(rotated_original_image, cv2.COLOR_BGR2RGB) #convert BGR into RGB\n",
        "        rs1 = cv2.resize(fg_img, (1500, 1000)) \n",
        "        plt.imshow(rs1)\n",
        "        plt.show()\n",
        "\n",
        "        hsv = cv2.cvtColor(rs1, cv2.COLOR_BGR2HSV)\n",
        "\n",
        "        #binarise\n",
        "        bin_img = cv2.inRange(hsv, (28, 78, 40), (240, 240, 240))\n",
        "        plt.imshow(bin_img)\n",
        "        plt.show()\n",
        "\n",
        "        #extract contours\n",
        "        contours, _ = cv2.findContours(bin_img, cv2.RETR_EXTERNAL, cv2.CHAIN_APPROX_SIMPLE)\n",
        "\n",
        "        #get the contour with the largest area\n",
        "        contour = max(contours, key=lambda x: cv2.contourArea(x))\n",
        "\n",
        "        #do the mask\n",
        "        mask = np.zeros_like(bin_img)\n",
        "        cv2.drawContours(mask, [contour], -1, color=255, thickness=-1)\n",
        "        \n",
        "plt.imshow(original_image)\n",
        "plt.show()\n",
        "plt.imshow(rs1)\n",
        "plt.show()\n",
        "plt.imshow(bin_img)\n",
        "plt.show()\n",
        "\n"
      ],
      "metadata": {
        "colab": {
          "base_uri": "https://localhost:8080/",
          "height": 269
        },
        "id": "-K-8Xs5KlLsW",
        "outputId": "f7e977ff-257f-4bc9-c084-f66fa3887904"
      },
      "execution_count": 17,
      "outputs": [
        {
          "output_type": "display_data",
          "data": {
            "text/plain": [
              "<Figure size 432x288 with 1 Axes>"
            ],
            "image/png": "[encoded data removed]"
          },
          "metadata": {
            "needs_background": "light"
          }
        }
      ]
    }
  ]
}
